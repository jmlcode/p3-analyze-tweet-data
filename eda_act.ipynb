{
 "cells": [
  {
   "cell_type": "markdown",
   "metadata": {},
   "source": [
    "# Analyze Tweet Data\n",
    "## Part 2: Exploratory Data Analysis (EDA) and Data Visualization\n",
    "\n",
    "## Table of Contents\n",
    "- [Introduction](#intro)\n",
    "- [EDA and Visualization](#analysis)\n",
    "- [Conclusion](#conclusion)\n",
    "- [Reference](#reference)\n",
    "\n",
    "<a id='intro'></a>\n",
    "## Introduction"
   ]
  },
  {
   "cell_type": "code",
   "execution_count": 9,
   "metadata": {},
   "outputs": [],
   "source": [
    "import pandas as pd\n",
    "import numpy as np\n",
    "import datetime as dt\n",
    "import matplotlib.pyplot as plt\n",
    "%matplotlib inline\n",
    "import seaborn as sns\n",
    "sns.set_style('darkgrid', {'grid.linestyle': 'dotted'})"
   ]
  },
  {
   "cell_type": "markdown",
   "metadata": {},
   "source": [
    "<a id='analysis'></a>\n",
    "## EDA and Visualization\n",
    "Three `.csv` files containing the cleaned version of the data from __Part 1: Data Wrangling__ were imported to this notebook by using pandas."
   ]
  },
  {
   "cell_type": "code",
   "execution_count": 2,
   "metadata": {},
   "outputs": [],
   "source": [
    "# read .csv files containing cleaned data\n",
    "df_archive = pd.read_csv('data/twitter_archive_clean.csv')\n",
    "df_master = pd.read_csv('data/twitter_archive_master.csv')\n",
    "df_image = pd.read_csv('data/image_prediction_clean.csv')"
   ]
  },
  {
   "cell_type": "markdown",
   "metadata": {},
   "source": [
    "### Data Wrangling\n",
    "Assessment of the three datasets imported above revealed that the data types of the `tweet_id` columns in all these datasets and the `timestamp` column in the two Twitter Archive datasets were integer and string (object), respectively. Although the data types of `tweet_id` and `timestamp` had been changed to string (object) and datetime, respectively, as documented in the data wrangling efforts from Part 1, the data types of these two columns may have been reverted as a result of reading the cleaned data from the `.csv` files with pandas.\n",
    "\n",
    "A sequence of steps similar to the one used in Part 1, _define_, _code_, and _test_, was used to change the data types of the `tweet_id` and `timestamp` columns back to string (object) and datetime, respectively, as shown in the code block below."
   ]
  },
  {
   "cell_type": "code",
   "execution_count": 3,
   "metadata": {},
   "outputs": [
    {
     "name": "stdout",
     "output_type": "stream",
     "text": [
      "1. Dataframe: twitter_archive_clean.csv\n",
      "  - tweet_id: from \"int64\" to \"object\"\n",
      "  - timestamp: from \"object\" to \"datetime64[ns, UTC]\"\n",
      "2. Dataframe: twitter_archive_master.csv\n",
      "  - tweet_id: from \"int64\" to \"object\"\n",
      "  - timestamp: from \"object\" to \"datetime64[ns, UTC]\"\n",
      "3. Dataframe: image_prediction_clean.csv\n",
      "  - tweet_id: from \"int64\" to \"object\"\n"
     ]
    }
   ],
   "source": [
    "# correct data types of selected columns\n",
    "df_list = [df_archive, df_master, df_image]\n",
    "df_name = ['twitter_archive_clean.csv', 'twitter_archive_master.csv', 'image_prediction_clean.csv']\n",
    "\n",
    "for i in range(len(df_list)):\n",
    "    # columns with data types reverted back to those from uncleaned version\n",
    "    col1 = df_list[i].columns[0] # tweet_id\n",
    "    col2 = df_list[i].columns[1] # timestamp\n",
    "    \n",
    "    # data type of the column from uncleaned version\n",
    "    col1_type = df_list[i][col1].dtype\n",
    "    col2_type = df_list[i][col2].dtype\n",
    "    \n",
    "    # .csv file name\n",
    "    print('{}. Dataframe: {}'.format(i+1, df_name[i]))\n",
    "    \n",
    "    # change data type (of tweet_id) to string\n",
    "    df_list[i][col1] = df_list[i][col1].astype(dtype = 'str')\n",
    "    \n",
    "    # column name: data type before/after\n",
    "    print('  - {}: from \"{}\" to \"{}\"'.format(col1, col1_type, df_list[i][col1].dtype))\n",
    "    \n",
    "    if i != 2: # df_image does not have timestamp column\n",
    "        # change data type (of timestamp) to string\n",
    "        df_list[i][col2] = pd.to_datetime(arg = df_list[i][col2])\n",
    "\n",
    "        # column name: data type before/after\n",
    "        print('  - {}: from \"{}\" to \"{}\"'.format(col2, col2_type, df_list[i][col2].dtype))"
   ]
  },
  {
   "cell_type": "markdown",
   "metadata": {},
   "source": [
    "### 1. Time of the Day when _WeRateDogs (@dogrates)_ Shows Most Activity\n",
    "#### Explore"
   ]
  },
  {
   "cell_type": "code",
   "execution_count": 4,
   "metadata": {},
   "outputs": [
    {
     "data": {
      "text/plain": [
       "hour\n",
       "0     46\n",
       "1     46\n",
       "16    39\n",
       "3     35\n",
       "2     34\n",
       "17    30\n",
       "15    28\n",
       "23    23\n",
       "18    15\n",
       "4     14\n",
       "19    12\n",
       "20    11\n",
       "21    11\n",
       "22     8\n",
       "5      2\n",
       "14     2\n",
       "13     1\n",
       "Name: hour, dtype: int64"
      ]
     },
     "execution_count": 4,
     "metadata": {},
     "output_type": "execute_result"
    }
   ],
   "source": [
    "# sub-dataset for timestamps of original tweets\n",
    "df_1 = df_archive.query('retweet == False')[['timestamp']]\n",
    "\n",
    "# hour and day parts of timestamps\n",
    "df_1['hour'] = df_1.timestamp.dt.hour\n",
    "df_1['day'] = df_1.timestamp.dt.weekday\n",
    "\n",
    "# number of original tweets in each hour on day 0 (Mondays)\n",
    "df_1.groupby('day').hour.value_counts()[0]"
   ]
  },
  {
   "cell_type": "markdown",
   "metadata": {},
   "source": [
    "#### Feature Engineering"
   ]
  },
  {
   "cell_type": "code",
   "execution_count": 5,
   "metadata": {},
   "outputs": [
    {
     "data": {
      "text/html": [
       "<div>\n",
       "<style scoped>\n",
       "    .dataframe tbody tr th:only-of-type {\n",
       "        vertical-align: middle;\n",
       "    }\n",
       "\n",
       "    .dataframe tbody tr th {\n",
       "        vertical-align: top;\n",
       "    }\n",
       "\n",
       "    .dataframe thead th {\n",
       "        text-align: right;\n",
       "    }\n",
       "</style>\n",
       "<table border=\"1\" class=\"dataframe\">\n",
       "  <thead>\n",
       "    <tr style=\"text-align: right;\">\n",
       "      <th></th>\n",
       "      <th>day</th>\n",
       "      <th>hour</th>\n",
       "      <th>tweet_percentage</th>\n",
       "    </tr>\n",
       "  </thead>\n",
       "  <tbody>\n",
       "    <tr>\n",
       "      <th>0</th>\n",
       "      <td>0</td>\n",
       "      <td>0</td>\n",
       "      <td>12.885154</td>\n",
       "    </tr>\n",
       "    <tr>\n",
       "      <th>1</th>\n",
       "      <td>0</td>\n",
       "      <td>1</td>\n",
       "      <td>12.885154</td>\n",
       "    </tr>\n",
       "    <tr>\n",
       "      <th>2</th>\n",
       "      <td>0</td>\n",
       "      <td>16</td>\n",
       "      <td>10.924370</td>\n",
       "    </tr>\n",
       "    <tr>\n",
       "      <th>3</th>\n",
       "      <td>0</td>\n",
       "      <td>3</td>\n",
       "      <td>9.803922</td>\n",
       "    </tr>\n",
       "    <tr>\n",
       "      <th>4</th>\n",
       "      <td>0</td>\n",
       "      <td>2</td>\n",
       "      <td>9.523810</td>\n",
       "    </tr>\n",
       "  </tbody>\n",
       "</table>\n",
       "</div>"
      ],
      "text/plain": [
       "   day  hour  tweet_percentage\n",
       "0    0     0         12.885154\n",
       "1    0     1         12.885154\n",
       "2    0    16         10.924370\n",
       "3    0     3          9.803922\n",
       "4    0     2          9.523810"
      ]
     },
     "execution_count": 5,
     "metadata": {},
     "output_type": "execute_result"
    }
   ],
   "source": [
    "# percentage of original tweets from each hour on a given day of the week\n",
    "df_1 = df_1.groupby('day').hour.value_counts() / df_1.groupby('day').hour.agg('count') * 100\n",
    "df_1 = pd.DataFrame(df_1).rename(columns = {'hour':'tweet_percentage'})\n",
    "\n",
    "# reset multi-index\n",
    "df_1.reset_index(level = ['day','hour'], inplace = True)\n",
    "\n",
    "df_1.head()"
   ]
  },
  {
   "cell_type": "code",
   "execution_count": 6,
   "metadata": {},
   "outputs": [
    {
     "data": {
      "text/html": [
       "<div>\n",
       "<style scoped>\n",
       "    .dataframe tbody tr th:only-of-type {\n",
       "        vertical-align: middle;\n",
       "    }\n",
       "\n",
       "    .dataframe tbody tr th {\n",
       "        vertical-align: top;\n",
       "    }\n",
       "\n",
       "    .dataframe thead th {\n",
       "        text-align: right;\n",
       "    }\n",
       "</style>\n",
       "<table border=\"1\" class=\"dataframe\">\n",
       "  <thead>\n",
       "    <tr style=\"text-align: right;\">\n",
       "      <th></th>\n",
       "      <th>day</th>\n",
       "      <th>hour</th>\n",
       "      <th>tweet_percentage</th>\n",
       "    </tr>\n",
       "  </thead>\n",
       "  <tbody>\n",
       "    <tr>\n",
       "      <th>163</th>\n",
       "      <td>6</td>\n",
       "      <td>10</td>\n",
       "      <td>0.0</td>\n",
       "    </tr>\n",
       "    <tr>\n",
       "      <th>164</th>\n",
       "      <td>6</td>\n",
       "      <td>11</td>\n",
       "      <td>0.0</td>\n",
       "    </tr>\n",
       "    <tr>\n",
       "      <th>165</th>\n",
       "      <td>6</td>\n",
       "      <td>12</td>\n",
       "      <td>0.0</td>\n",
       "    </tr>\n",
       "    <tr>\n",
       "      <th>166</th>\n",
       "      <td>6</td>\n",
       "      <td>13</td>\n",
       "      <td>0.0</td>\n",
       "    </tr>\n",
       "    <tr>\n",
       "      <th>167</th>\n",
       "      <td>6</td>\n",
       "      <td>14</td>\n",
       "      <td>0.0</td>\n",
       "    </tr>\n",
       "  </tbody>\n",
       "</table>\n",
       "</div>"
      ],
      "text/plain": [
       "     day  hour  tweet_percentage\n",
       "163    6    10               0.0\n",
       "164    6    11               0.0\n",
       "165    6    12               0.0\n",
       "166    6    13               0.0\n",
       "167    6    14               0.0"
      ]
     },
     "execution_count": 6,
     "metadata": {},
     "output_type": "execute_result"
    }
   ],
   "source": [
    "# index to which new row can be added\n",
    "ind = df_1.index.max() + 1\n",
    "\n",
    "# daily hours available: 0, 1, ..., 22, 23\n",
    "hours = [hour for hour in range(24)]\n",
    "\n",
    "# if the hour is not recorded in the dataframe for given day\n",
    "for d in df_1.day.unique():\n",
    "    for hr in hours:\n",
    "        if hr not in df_1.query('day == @d').hour.unique():\n",
    "            \n",
    "            # add new row with day, hour, and 0 percentage of tweet-posting activity\n",
    "            df_1.loc[ind] = d, hr, 0\n",
    "            \n",
    "            # update index for the next row addition\n",
    "            ind += 1\n",
    "\n",
    "df_1.tail()"
   ]
  },
  {
   "cell_type": "code",
   "execution_count": 7,
   "metadata": {},
   "outputs": [
    {
     "data": {
      "text/html": [
       "<div>\n",
       "<style scoped>\n",
       "    .dataframe tbody tr th:only-of-type {\n",
       "        vertical-align: middle;\n",
       "    }\n",
       "\n",
       "    .dataframe tbody tr th {\n",
       "        vertical-align: top;\n",
       "    }\n",
       "\n",
       "    .dataframe thead th {\n",
       "        text-align: right;\n",
       "    }\n",
       "</style>\n",
       "<table border=\"1\" class=\"dataframe\">\n",
       "  <thead>\n",
       "    <tr style=\"text-align: right;\">\n",
       "      <th></th>\n",
       "      <th>day</th>\n",
       "      <th>hour</th>\n",
       "      <th>tweet_percentage</th>\n",
       "    </tr>\n",
       "  </thead>\n",
       "  <tbody>\n",
       "    <tr>\n",
       "      <th>0</th>\n",
       "      <td>0</td>\n",
       "      <td>0</td>\n",
       "      <td>12.885154</td>\n",
       "    </tr>\n",
       "    <tr>\n",
       "      <th>1</th>\n",
       "      <td>0</td>\n",
       "      <td>1</td>\n",
       "      <td>12.885154</td>\n",
       "    </tr>\n",
       "    <tr>\n",
       "      <th>2</th>\n",
       "      <td>0</td>\n",
       "      <td>2</td>\n",
       "      <td>9.523810</td>\n",
       "    </tr>\n",
       "    <tr>\n",
       "      <th>3</th>\n",
       "      <td>0</td>\n",
       "      <td>3</td>\n",
       "      <td>9.803922</td>\n",
       "    </tr>\n",
       "    <tr>\n",
       "      <th>4</th>\n",
       "      <td>0</td>\n",
       "      <td>4</td>\n",
       "      <td>3.921569</td>\n",
       "    </tr>\n",
       "  </tbody>\n",
       "</table>\n",
       "</div>"
      ],
      "text/plain": [
       "   day  hour  tweet_percentage\n",
       "0    0     0         12.885154\n",
       "1    0     1         12.885154\n",
       "2    0     2          9.523810\n",
       "3    0     3          9.803922\n",
       "4    0     4          3.921569"
      ]
     },
     "execution_count": 7,
     "metadata": {},
     "output_type": "execute_result"
    }
   ],
   "source": [
    "# sort values by three columns and reset index\n",
    "df_1.sort_values(by = ['day', 'hour', 'tweet_percentage'], inplace = True)\n",
    "df_1.reset_index(drop = True, inplace = True)\n",
    "\n",
    "df_1.head()"
   ]
  },
  {
   "cell_type": "code",
   "execution_count": 8,
   "metadata": {},
   "outputs": [],
   "source": [
    "day_of_week = ['Monday', 'Tuesday', 'Wednesday', 'Thursday', 'Friday', 'Saturday', 'Sunday']\n",
    "dow = [day for day in np.arange(7)] # integers representing days of a week\n",
    "\n",
    "# dictionary mapping integers to days of a week\n",
    "dow_dict = {}\n",
    "for key in dow:\n",
    "    # integer: day of week (ex 0: Monday)\n",
    "    dow_dict[key] = day_of_week[key]"
   ]
  },
  {
   "cell_type": "code",
   "execution_count": 10,
   "metadata": {},
   "outputs": [
    {
     "data": {
      "image/png": "[encoded data removed]",
      "text/plain": [
       "<Figure size 1296x648 with 7 Axes>"
      ]
     },
     "metadata": {
      "needs_background": "light"
     },
     "output_type": "display_data"
    }
   ],
   "source": [
    "# create figure with 2-by-4 subplots\n",
    "rows = 2\n",
    "cols = 4\n",
    "fig, ax = plt.subplots(nrows = rows, ncols = cols, figsize = (18,9))\n",
    "\n",
    "# add figure title and common x, y axes labels for all subplots\n",
    "fig.suptitle('Percentage of Hourly Tweets for each Day of the Week', fontsize = 18)\n",
    "fig.text(x = 0.5, y = 0.06, s = 'Hour of the Day', ha = 'center', va = 'center', fontsize = 16)\n",
    "fig.text(x = 0.09, y = 0.5, s = 'Percentage of Tweets Posted (%)', ha = 'center', va = 'center', rotation = 'vertical', fontsize = 16)\n",
    "\n",
    "# for each subplot, ax[row, col]\n",
    "for row in np.arange(rows):\n",
    "    for col in np.arange(cols):\n",
    "        \n",
    "        if row == 0: # in first row, col number = integer for the given day\n",
    "            df = df_1.query('day == @col') # filter data for the given day\n",
    "            day_name = dow_dict[col] # find name of the day\n",
    "            \n",
    "        else:\n",
    "            # delete last (eighth) subplot because there is only seven days in a week\n",
    "            if col == cols - 1:\n",
    "                fig.delaxes(ax[row, col])\n",
    "                break\n",
    "            \n",
    "            # in second row, col number = integer for the given day - 4\n",
    "            df = df_1.query('day == @col + 4')\n",
    "            day_name = dow_dict[col + 4]\n",
    "\n",
    "        # set up xtick locations and labels\n",
    "        width = 2\n",
    "        x_loc = list(df.hour * width)\n",
    "        labels = [label for label in np.arange(24)]\n",
    "        \n",
    "        # bar plots for percentage of hourly tweets for each day of week\n",
    "        ax[row, col].bar(x = x_loc, height = df.tweet_percentage, width = width, align = 'edge')\n",
    "        \n",
    "        # label suplot with name of the day\n",
    "        ax[row, col].set_title(day_name, fontsize = 14)\n",
    "        \n",
    "        # label xticks by increments of two: 0, 2, ..., 22\n",
    "        for i in range(len(labels)):\n",
    "            if labels[i] % 2 != 0:\n",
    "                labels[i] = ''\n",
    "        \n",
    "        # add xtick labels to the subplot\n",
    "        ax[row, col].set_xticks(ticks = x_loc)\n",
    "        ax[row, col].set_xticklabels(labels = labels)\n",
    "        \n",
    "        # statistics for percentages of tweets across hours in a given day\n",
    "        avg = df.tweet_percentage.mean()\n",
    "        sd = df.tweet_percentage.std()\n",
    "        lower = avg - sd/2\n",
    "        upper = avg + sd/2\n",
    "        \n",
    "        # horizontal lines for mean percentage +,- standard deviation/2\n",
    "        ax[row, col].hlines(y = lower, xmin = 0, xmax = 50, colors = 'red', linestyles = '--')\n",
    "        ax[row, col].hlines(y = upper, xmin = 0, xmax = 50, colors = 'red', linestyles = '--')\n",
    "        \n",
    "        # legend for statistics\n",
    "        ax[row, col].text(x = 30, y = df.tweet_percentage.max()-0.5, s = '{}+/-{} %'.format(round(avg, 2), round(sd/2, 2)), fontsize = 14)"
   ]
  },
  {
   "cell_type": "markdown",
   "metadata": {},
   "source": [
    "<a id='conclusion'></a>\n",
    "## Conclusion"
   ]
  },
  {
   "cell_type": "markdown",
   "metadata": {},
   "source": [
    "<a id='reference'></a>\n",
    "## Reference"
   ]
  }
 ],
 "metadata": {
  "kernelspec": {
   "display_name": "Python 3",
   "language": "python",
   "name": "python3"
  },
  "language_info": {
   "codemirror_mode": {
    "name": "ipython",
    "version": 3
   },
   "file_extension": ".py",
   "mimetype": "text/x-python",
   "name": "python",
   "nbconvert_exporter": "python",
   "pygments_lexer": "ipython3",
   "version": "3.7.1"
  }
 },
 "nbformat": 4,
 "nbformat_minor": 2
}
