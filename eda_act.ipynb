{
 "cells": [
  {
   "cell_type": "markdown",
   "metadata": {},
   "source": [
    "# Analyze Tweet Data\n",
    "## Part 2: Exploratory Data Analysis (EDA) and Data Visualization\n",
    "\n",
    "## Table of Contents\n",
    "- [Introduction](#intro)\n",
    "- [EDA and Visualization](#analysis)\n",
    "- [Conclusion](#conclusion)\n",
    "- [Reference](#reference)\n",
    "\n",
    "<a id='intro'></a>\n",
    "## Introduction"
   ]
  },
  {
   "cell_type": "code",
   "execution_count": 1,
   "metadata": {},
   "outputs": [],
   "source": [
    "import pandas as pd\n",
    "import numpy as np"
   ]
  },
  {
   "cell_type": "markdown",
   "metadata": {},
   "source": [
    "<a id='analysis'></a>\n",
    "## EDA and Visualization"
   ]
  },
  {
   "cell_type": "code",
   "execution_count": 2,
   "metadata": {},
   "outputs": [],
   "source": [
    "# read .csv files containing cleaned data\n",
    "df_archive = pd.read_csv('data/twitter_archive_clean.csv')\n",
    "df_master = pd.read_csv('data/twitter_archive_master.csv')\n",
    "df_image = pd.read_csv('data/image_prediction_clean.csv')"
   ]
  },
  {
   "cell_type": "code",
   "execution_count": 3,
   "metadata": {},
   "outputs": [
    {
     "name": "stdout",
     "output_type": "stream",
     "text": [
      "1. Dataframe: twitter_archive_clean.csv\n",
      "  - tweet_id: from \"int64\" to \"object\"\n",
      "  - timestamp: from \"object\" to \"datetime64[ns, UTC]\"\n",
      "2. Dataframe: twitter_archive_master.csv\n",
      "  - tweet_id: from \"int64\" to \"object\"\n",
      "  - timestamp: from \"object\" to \"datetime64[ns, UTC]\"\n",
      "3. Dataframe: image_prediction_clean.csv\n",
      "  - tweet_id: from \"int64\" to \"object\"\n"
     ]
    }
   ],
   "source": [
    "# correct data types of selected columns\n",
    "df_list = [df_archive, df_master, df_image]\n",
    "df_name = ['twitter_archive_clean.csv', 'twitter_archive_master.csv', 'image_prediction_clean.csv']\n",
    "\n",
    "for i in range(len(df_list)):\n",
    "    # columns with data types reverted back to those from uncleaned version\n",
    "    col1 = df_list[i].columns[0] # tweet_id\n",
    "    col2 = df_list[i].columns[1] # timestamp\n",
    "    \n",
    "    # data type of the column from uncleaned version\n",
    "    col1_type = df_list[i][col1].dtype\n",
    "    col2_type = df_list[i][col2].dtype\n",
    "    \n",
    "    # .csv file name\n",
    "    print('{}. Dataframe: {}'.format(i+1, df_name[i]))\n",
    "    \n",
    "    # change data type (of tweet_id) to string\n",
    "    df_list[i][col1] = df_list[i][col1].astype(dtype = 'str')\n",
    "    \n",
    "    # column name: data type before/after\n",
    "    print('  - {}: from \"{}\" to \"{}\"'.format(col1, col1_type, df_list[i][col1].dtype))\n",
    "    \n",
    "    if i != 2: # df_image does not have timestamp column\n",
    "        # change data type (of timestamp) to string\n",
    "        df_list[i][col2] = pd.to_datetime(arg = df_list[i][col2])\n",
    "\n",
    "        # column name: data type before/after\n",
    "        print('  - {}: from \"{}\" to \"{}\"'.format(col2, col2_type, df_list[i][col2].dtype))"
   ]
  },
  {
   "cell_type": "markdown",
   "metadata": {},
   "source": [
    "<a id='conclusion'></a>\n",
    "## Conclusion"
   ]
  },
  {
   "cell_type": "markdown",
   "metadata": {},
   "source": [
    "<a id='reference'></a>\n",
    "## Reference"
   ]
  }
 ],
 "metadata": {
  "kernelspec": {
   "display_name": "Python 3",
   "language": "python",
   "name": "python3"
  },
  "language_info": {
   "codemirror_mode": {
    "name": "ipython",
    "version": 3
   },
   "file_extension": ".py",
   "mimetype": "text/x-python",
   "name": "python",
   "nbconvert_exporter": "python",
   "pygments_lexer": "ipython3",
   "version": "3.7.1"
  }
 },
 "nbformat": 4,
 "nbformat_minor": 2
}
